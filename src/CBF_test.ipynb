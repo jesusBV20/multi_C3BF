{
 "cells": [
  {
   "cell_type": "code",
   "execution_count": 2,
   "metadata": {},
   "outputs": [
    {
     "name": "stdout",
     "output_type": "stream",
     "text": [
      "Python 3.11.2\n"
     ]
    }
   ],
   "source": [
    "\"\"\"\\\n",
    "# Copyright (C) 2023 Jesús Bautista Villar <jesbauti20@gmail.com>\n",
    "\"\"\"\n",
    "!python3 --version\n",
    "\n",
    "# From Google Colab\n",
    "#!git clone https://github.com/jesusBV20/multi_C3BF.git\n",
    "#!rsync -a multi_C3BF/ .\n",
    "#!rm -r multi_C3BF"
   ]
  },
  {
   "cell_type": "code",
   "execution_count": 2,
   "metadata": {},
   "outputs": [],
   "source": [
    "# ----------------------------------------------------------------------\n",
    "# Importamos las librerías principales\n",
    "# ----------------------------------------------------------------------\n",
    "\n",
    "import os\n",
    "import numpy as np\n",
    "from numpy import linalg as LA\n",
    "\n",
    "# Para graficar\n",
    "import matplotlib.pyplot as plt\n",
    "from seaborn import color_palette\n",
    "\n",
    "# Para animar y visualizar animaciones\n",
    "from matplotlib.animation import FuncAnimation\n",
    "from IPython.display import HTML\n",
    "import matplotlib.patches as patches\n",
    "\n",
    "# QP solvers\n",
    "#!pip install qpsolvers\n",
    "#from qpsolvers import solve_qp\n",
    "\n",
    "# ----------------------------------------------------------------------\n",
    "# CBF_tools\n",
    "# ----------------------------------------------------------------------\n",
    "\n",
    "# Toolbox\n",
    "from simulations.utils.toolbox import unicycle_patch, fmt_data_axis, cone_params, createDir\n",
    "\n",
    "# GVF + CBF simulator\n",
    "from simulations.utils.simulator import simulator\n",
    "\n",
    "# GVF trajectories\n",
    "from simulations.gvf_traj.gvf_traj_ellipse  import gvf_ellipse\n",
    "\n",
    "E = np.array([[0, 1],[-1, 0]])"
   ]
  }
 ],
 "metadata": {
  "kernelspec": {
   "display_name": "Python 3 (ipykernel)",
   "language": "python",
   "name": "python3"
  },
  "language_info": {
   "codemirror_mode": {
    "name": "ipython",
    "version": 3
   },
   "file_extension": ".py",
   "mimetype": "text/x-python",
   "name": "python",
   "nbconvert_exporter": "python",
   "pygments_lexer": "ipython3",
   "version": "3.11.2"
  },
  "orig_nbformat": 4
 },
 "nbformat": 4,
 "nbformat_minor": 2
}
